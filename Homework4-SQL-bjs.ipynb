{
 "cells": [
  {
   "cell_type": "markdown",
   "metadata": {},
   "source": [
    "1. Give a count of all videos currently out:\n",
    "\n",
    "SELECT count(rental_id) from rental\n",
    "\n",
    "Count\n",
    "16,044"
   ]
  },
  {
   "cell_type": "markdown",
   "metadata": {},
   "source": [
    "2. What hour of the day to people rent the most ?\n",
    "\n",
    "SELECT EXTRACT(HOUR from rental_date),\n",
    "    COUNT(EXTRACT(HOUR from rental_date)) AS Count\n",
    "    FROM rental\n",
    "    GROUP BY EXTRACT(HOUR from rental_date)\n",
    "    ORDER BY Count DESC\n",
    "    LIMIT    1;\n",
    "\t\n",
    "Date_part\tCount\n",
    "15.00\t887\n",
    "\n",
    "3PM is most popular time!"
   ]
  },
  {
   "cell_type": "markdown",
   "metadata": {},
   "source": [
    "SELECT first_name, last_name, CURRENT_DATE-rental_date::date-7 AS lateFee\n",
    "from rental JOIN customer ON (rental.customer_id = customer.customer_id) WHERE Return_date IS NULL ORDER BY numDays DESC\n",
    "\n",
    "First_name\tLast_name\tLatefee\n",
    "Dwayne\tOlvera\t4,238\n",
    "Gregory\tMauldin\t4,061\n",
    "Zachary\tHite\t4,061\n",
    "Louise\tJenkins\t4,061\n",
    "Willie\tHowell\t4,061\n",
    "Emily\tDiaz\t4,061\n",
    "Laurie\tLawrence\t4,061\n",
    "Lisa\tAnderson\t4,061\n",
    "\n",
    "The above are a subset of users who owe the most, with Latefee in $."
   ]
  },
  {
   "cell_type": "markdown",
   "metadata": {},
   "source": [
    "4. Which store is more profitable, assuming all movies cost $15 per inventory item to purchase.\n",
    "\n",
    "SELECT inventory.store_id, count(inventory.inventory_id)*15 AS InventoryCost, total_sales, total_sales-count(inventory.inventory_id)*15 AS profit from sales_by_store \n",
    "JOIN staff_list ON staff_list.name = sales_by_store.manager\n",
    "JOIN store ON staff_list.id = store.manager_staff_id\n",
    "JOIN inventory on store.store_id = inventory.store_id\n",
    "GROUP BY inventory.store_id, total_sales\n",
    "\n",
    "Store_id\tInventorycost\tTotal_sales\tProfit\n",
    "1\t34,050\t30,628.91\t-3,421.09\n",
    "2\t34,665\t30,683.13\t-3,981.87\n",
    "\n",
    "STORE 1 is more profitable, although they both lose money."
   ]
  }
 ],
 "metadata": {
  "kernelspec": {
   "display_name": "Python 3",
   "language": "python",
   "name": "python3"
  },
  "language_info": {
   "codemirror_mode": {
    "name": "ipython",
    "version": 3
   },
   "file_extension": ".py",
   "mimetype": "text/x-python",
   "name": "python",
   "nbconvert_exporter": "python",
   "pygments_lexer": "ipython3",
   "version": "3.6.0"
  }
 },
 "nbformat": 4,
 "nbformat_minor": 2
}
